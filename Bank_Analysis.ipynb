{
 "cells": [
  {
   "cell_type": "markdown",
   "metadata": {
    "id": "dz3L8lMkiSOw"
   },
   "source": [
    "<h1><center>Exploratory Data Analysis of a Bank Institution</center></h1>\n",
    "<center><img src=\"https://www.marmoremena.com/uploads/blog_images/main_3610ebeb92d9eb9f8ba62bf7e977afc4.jpg\" align=\"center\"/></center>"
   ]
  },
  {
   "cell_type": "markdown",
   "metadata": {
    "id": "xQruwCdhKvUu"
   },
   "source": [
    "## Table of Content\n",
    "\n",
    "1. [Data Description](#section1)\n",
    "2. [Objective](#section2)\n",
    "3. [Libraries & Configuration](#section3)\n",
    "  - 3.1 [Libraries](#section301)\n",
    "  - 3.2 [Configuration](#section302)\n",
    "4. [Load dataset](#section4)\n",
    "  - 4.1 [Data Summary](#section401)\n",
    "5. [Data Exploration](#section5)\n",
    "6. [Data Visualization](#section6)\n",
    "7. [Feature Engineering](#section7)\n",
    "8. [Outliers](#section8)\n",
    "9. [Insights](#section9)\n",
    "10. [Recommendations](#section10)\n",
    "11. [Conclusion](#section11)"
   ]
  },
  {
   "cell_type": "markdown",
   "metadata": {
    "id": "dvZhiLrrMrdl"
   },
   "source": [
    "<a id=\"section1\"></a>\n",
    "\n",
    "---\n",
    "\n",
    "\n",
    "## 1. Data Description\n",
    "\n",
    "This data pertains to direct marketing campaigns conducted by a Portuguese banking institution. The campaigns relied on phone calls to gauge client interest in subscribing to a bank term deposit product.  Multiple contacts with the same client were often necessary to determine their decision (subscribe or not subscribe)."
   ]
  },
  {
   "cell_type": "markdown",
   "metadata": {
    "id": "URho5zgmfOXA"
   },
   "source": [
    "<a id=\"section2\"></a>\n",
    "## 2. Objective\n",
    "\n",
    "- To conduct exploratory data analysis to understand the distribution of features and target variable\n",
    "\n",
    "- To visualize the relationships between features(e.g., age, income, and loan amount) and the target variable using scatter plots, histograms, and box plots\n",
    "\n",
    "- To handle outliers in the dataset."
   ]
  },
  {
   "cell_type": "markdown",
   "metadata": {
    "id": "CdM0jdvqkMSA"
   },
   "source": [
    "<a id=\"section3\"></a>\n",
    "## 3. Libraries & Configuration"
   ]
  },
  {
   "cell_type": "markdown",
   "metadata": {
    "id": "7voBvVph-eId"
   },
   "source": [
    "<a id=\"section301\"></a>\n",
    "#### 3.1 Libraries"
   ]
  },
  {
   "cell_type": "code",
   "execution_count": null,
   "metadata": {
    "id": "AunXrChrGklZ"
   },
   "outputs": [],
   "source": [
    "\"\"\"importing relevant libraries\"\"\"\n",
    "import pandas as pd  # for data manipulation\n",
    "import numpy as np   # for data computation\n",
    "import matplotlib.pyplot as plt #for 2D data visualization\n",
    "import seaborn as sns    #for 2D data visualization\n",
    "from scipy import stats     # for statistics\n",
    "from IPython.display import Markdown, display # for markdown function\n",
    "%matplotlib inline\n",
    "\n",
    "import warnings\n",
    "warnings.filterwarnings('ignore')"
   ]
  },
  {
   "cell_type": "markdown",
   "metadata": {
    "id": "OVQhMyci-K2q"
   },
   "source": [
    "<a id=\"section302\"></a>\n",
    "#### 3.2 Configuration"
   ]
  },
  {
   "cell_type": "code",
   "execution_count": null,
   "metadata": {
    "id": "oqypOe5e5kcQ"
   },
   "outputs": [],
   "source": [
    "# padding value\n",
    "left_padding = 15\n",
    "# seed value\n",
    "SEED = 42\n",
    "#set seaborn theme\n",
    "sns.set_theme(style=\"darkgrid\")"
   ]
  },
  {
   "cell_type": "markdown",
   "metadata": {
    "id": "j3JIq1B4_qBe"
   },
   "source": [
    "<a id=\"section4\"></a>\n",
    "## 4. Loading Dataset"
   ]
  },
  {
   "cell_type": "markdown",
   "metadata": {
    "id": "Y_gVq1A2DRva"
   },
   "source": [
    "<a id=\"section401\"></a>\n",
    "#### 4.1 Data Summary\n",
    "\n",
    "\n",
    "The Bank dataset is has the following columns which are classified into categorical and numerical data type:\n",
    "\n",
    "age: client's age (numeric)\n",
    "\n",
    "job : type of job (categorical)\n",
    "\n",
    "marital : marital status (categorical)\n",
    "\n",
    "education (categorical)\n",
    "\n",
    "default: has credit in default? (categorical)\n",
    "\n",
    "balance: average yearly balance, in euros (numeric)\n",
    "\n",
    "housing: has housing loan? (categorical)\n",
    "\n",
    "loan: has personal loan? (categorical)\n",
    "\n",
    "contact: contact communication type (categorical)\n",
    "\n",
    "day: last contact day of the month (numeric)\n",
    "\n",
    "month: last contact month of year (categorical)\n",
    "\n",
    "duration: last contact duration, in seconds (numeric)\n",
    "\n",
    "campaign: number of contacts performed during this campaign and for this client (numeric)\n",
    "\n",
    "pdays: number of days that passed by after the client was last contacted from a previous campaign (numeric)\n",
    "\n",
    "previous: number of contacts performed before this campaign and for this client (numeric)\n",
    "\n",
    "poutcome: outcome of the previous marketing campaign (categorical)\n",
    "\n",
    "y: has the client subscribed a term deposit? (binary or boolean)"
   ]
  },
  {
   "cell_type": "code",
   "execution_count": null,
   "metadata": {
    "id": "sEVdVXV7-Sqx"
   },
   "outputs": [],
   "source": [
    "# Loding the datasets\n",
    "df = pd.read_csv('bank-full.csv', sep=';')"
   ]
  },
  {
   "cell_type": "code",
   "execution_count": null,
   "metadata": {
    "colab": {
     "base_uri": "https://localhost:8080/",
     "height": 226
    },
    "id": "9hbSI0EqBxZh",
    "outputId": "f388ee46-c458-464b-a4b5-180c000f1ea6"
   },
   "outputs": [],
   "source": [
    "# checking the first five rows\n",
    "df.head()"
   ]
  },
  {
   "cell_type": "markdown",
   "metadata": {
    "id": "2dAyL1dZCxmo"
   },
   "source": [
    "<a id=\"section5\"></a>\n",
    "## 5. Data Exploratory"
   ]
  },
  {
   "cell_type": "code",
   "execution_count": null,
   "metadata": {
    "colab": {
     "base_uri": "https://localhost:8080/"
    },
    "id": "XVQwBqFJB7UP",
    "outputId": "773ec7d9-3595-46ea-94cd-bcf24443a196"
   },
   "outputs": [],
   "source": [
    "# Total number of rows and columns\n",
    "df.shape"
   ]
  },
  {
   "cell_type": "code",
   "execution_count": null,
   "metadata": {
    "colab": {
     "base_uri": "https://localhost:8080/"
    },
    "id": "9En97rH_Cl-O",
    "outputId": "197f768f-6ac8-4a5d-9f4f-5c0c3a502abb"
   },
   "outputs": [],
   "source": [
    "# provides a concise summary of the DataFrame’s structure\n",
    "df.info()"
   ]
  },
  {
   "cell_type": "code",
   "execution_count": null,
   "metadata": {
    "colab": {
     "base_uri": "https://localhost:8080/",
     "height": 118
    },
    "id": "LzHfwglSJCuv",
    "outputId": "ecde7c71-588f-41f4-d645-0c8a82e459d5"
   },
   "outputs": [],
   "source": [
    "# checking for missing values\n",
    "df.isnull().sum().to_frame('NaN value').T"
   ]
  },
  {
   "cell_type": "code",
   "execution_count": null,
   "metadata": {
    "colab": {
     "base_uri": "https://localhost:8080/"
    },
    "id": "KZPn3AXDJJHo",
    "outputId": "87981bcd-9446-4e5d-a291-7a749246289f"
   },
   "outputs": [],
   "source": [
    "df.isnull().sum()"
   ]
  },
  {
   "cell_type": "code",
   "execution_count": null,
   "metadata": {
    "colab": {
     "base_uri": "https://localhost:8080/"
    },
    "id": "tdKjmkR5JOPU",
    "outputId": "96f44ca8-ec6f-49d0-9de4-6eaed25b5372"
   },
   "outputs": [],
   "source": [
    "# checking for duplicates\n",
    "df.duplicated().sum()"
   ]
  },
  {
   "cell_type": "code",
   "execution_count": null,
   "metadata": {
    "colab": {
     "base_uri": "https://localhost:8080/",
     "height": 268
    },
    "id": "e5LWTANhCmLq",
    "outputId": "6d6edd69-2edf-4814-e269-e77fdfcdb314"
   },
   "outputs": [],
   "source": [
    "# computes summary statistics for each numerical column in the DataFrame\n",
    "df.describe().T"
   ]
  },
  {
   "cell_type": "code",
   "execution_count": null,
   "metadata": {
    "colab": {
     "base_uri": "https://localhost:8080/",
     "height": 362
    },
    "id": "EfW918kaJa11",
    "outputId": "01856512-1e39-4c84-dc0d-d9eaed7afa94"
   },
   "outputs": [],
   "source": [
    "df.describe(include='object').T"
   ]
  },
  {
   "cell_type": "code",
   "execution_count": null,
   "metadata": {
    "colab": {
     "base_uri": "https://localhost:8080/"
    },
    "id": "2BD2U1n2CmbT",
    "outputId": "0388a59d-102e-47f9-bdb3-4dec7e0faee9"
   },
   "outputs": [],
   "source": [
    "# prints unique values for categorical columns in the DataFrame\n",
    "for col in df.select_dtypes(include='object').columns:\n",
    "    print(col)\n",
    "    print(df[col].unique())"
   ]
  },
  {
   "cell_type": "code",
   "execution_count": null,
   "metadata": {
    "colab": {
     "base_uri": "https://localhost:8080/"
    },
    "collapsed": true,
    "id": "grVfISlkCmo6",
    "outputId": "ecb1c118-9b3b-4525-fb0e-27ffc1cd6a3c"
   },
   "outputs": [],
   "source": [
    "# prints unique values for numerical columns in the DataFrame\n",
    "for col in df.select_dtypes(include='int64').columns:\n",
    "    print(col)\n",
    "    print(df[col].unique())"
   ]
  },
  {
   "cell_type": "code",
   "execution_count": null,
   "metadata": {
    "colab": {
     "base_uri": "https://localhost:8080/"
    },
    "id": "3ZwiC_KtH2_r",
    "outputId": "524fce84-0f0b-4864-eb12-84a091c5a3ea"
   },
   "outputs": [],
   "source": [
    "# Checking the number of unique values in each column\n",
    "for col in df:\n",
    "    print(f\"{col}: {df[col].nunique()}\")"
   ]
  },
  {
   "cell_type": "code",
   "execution_count": null,
   "metadata": {
    "colab": {
     "base_uri": "https://localhost:8080/"
    },
    "id": "FtpH3GGMXi-s",
    "outputId": "03ab9225-a70f-486a-fa39-cda80f8b08fe"
   },
   "outputs": [],
   "source": [
    "cat_features = df.select_dtypes(include='object').columns.tolist()\n",
    "num_features = df.select_dtypes(include='int64').columns.tolist()\n",
    "\n",
    "print(f\"Categorical features: {cat_features}\")\n",
    "print(f\"Numerical features: {num_features}\")"
   ]
  },
  {
   "cell_type": "code",
   "execution_count": null,
   "metadata": {
    "colab": {
     "base_uri": "https://localhost:8080/",
     "height": 206
    },
    "id": "GdlSN9_YY9Dy",
    "outputId": "c645aae7-2458-4a23-a526-a036796aee95"
   },
   "outputs": [],
   "source": [
    "cat_features = pd.DataFrame(df[cat_features])\n",
    "cat_features.head()"
   ]
  },
  {
   "cell_type": "code",
   "execution_count": null,
   "metadata": {
    "colab": {
     "base_uri": "https://localhost:8080/"
    },
    "id": "IFFBJk1tf50-",
    "outputId": "d647bdf3-0a16-4b8f-ff9b-85d25dd04f7c"
   },
   "outputs": [],
   "source": [
    "# the percentage of unknown in each category\n",
    "df_unknown = df.copy().select_dtypes(include=['object'])\n",
    "df_unknown = df_unknown.replace('unknown', np.nan)\n",
    "\n",
    "df_unknown.isna().mean() * 100"
   ]
  },
  {
   "cell_type": "code",
   "execution_count": null,
   "metadata": {
    "id": "ty23DDHvh4ZT"
   },
   "outputs": [],
   "source": [
    "# dropping unknown\n",
    "\n",
    "df = df[\n",
    "    (df.education != 'unknown') &\n",
    "    (df.poutcome != 'unknown') &\n",
    "    (df.job != 'unknown') &\n",
    "    (df.contact != 'unknown')\n",
    "]"
   ]
  },
  {
   "cell_type": "code",
   "execution_count": null,
   "metadata": {
    "colab": {
     "base_uri": "https://localhost:8080/"
    },
    "id": "cHgI36d7h_0n",
    "outputId": "907678ec-f583-4c95-fe8c-87aa278ee661"
   },
   "outputs": [],
   "source": [
    "df.shape"
   ]
  },
  {
   "cell_type": "code",
   "execution_count": null,
   "metadata": {
    "id": "i2JScq8MiDTs"
   },
   "outputs": [],
   "source": [
    "# converting yes or no to 1 and 0 by mapping the data\n",
    "df['y'] = df['y'].map({'yes': 1, 'no': 0})\n",
    "df['housing'] = df['housing'].map({'yes': 1, 'no': 0})\n",
    "df['loan'] = df['loan'].map({'yes': 1, 'no': 0})\n",
    "df['default'] = df['default'].map({'yes': 1, 'no': 0})"
   ]
  },
  {
   "cell_type": "code",
   "execution_count": null,
   "metadata": {
    "colab": {
     "base_uri": "https://localhost:8080/",
     "height": 226
    },
    "id": "7q5fVONSiq0R",
    "outputId": "873cc535-84e1-4da7-9e69-f2ce4012b5b9"
   },
   "outputs": [],
   "source": [
    "# first five row of the data\n",
    "df.head()"
   ]
  },
  {
   "cell_type": "markdown",
   "metadata": {
    "id": "qonV_XEPegmu"
   },
   "source": [
    "From the dataframe above, the columns: 'job', 'education', 'contact', 'poutcome' has an 'unknown' value. Dropping the 'unknown' values is neccessary because ML algorithms require complete data for training and prediction.Feature such as; contact and poutcome, have many unknown values, the model may not learn meaningful relationships. Also, incorrect imputation can distort feature distributions and affect model behavior. If unknown values are imputed incorrectly, the model may generalize poorly.\n",
    "\n",
    "Secondly, columns like 'default', 'housing', 'loan', 'y' all have the 'yes' and 'no' values which was converted to 1 and 0 for statistical analysis."
   ]
  },
  {
   "cell_type": "code",
   "execution_count": null,
   "metadata": {
    "colab": {
     "base_uri": "https://localhost:8080/",
     "height": 206
    },
    "id": "WZOzZM9fePOL",
    "outputId": "68068ca6-b839-4d84-f8f7-1631765fec67"
   },
   "outputs": [],
   "source": [
    "# checking the numerical columns\n",
    "num_features = pd.DataFrame(df[num_features])\n",
    "num_features.head()"
   ]
  },
  {
   "cell_type": "code",
   "execution_count": null,
   "metadata": {
    "colab": {
     "base_uri": "https://localhost:8080/"
    },
    "id": "0VSZ45WhRMrJ",
    "outputId": "a8b35aa0-a80e-4003-8bd3-cbd1d8e61c0d"
   },
   "outputs": [],
   "source": [
    "# print the ranges of the numerical/categorical column\n",
    "print(\"Age range: \", df['age'].min(), \"to\", df['age'].max())\n",
    "print(\"\\nBalance range: \", df['balance'].min(), \"to\", df['balance'].max())\n",
    "print(\"\\nDuration range: \", df['duration'].min(), \"to\", df['duration'].max())\n",
    "print(\"\\nCampaign range: \", df['campaign'].min(), \"to\", df['campaign'].max())\n",
    "print(\"\\nPdays range: \", df['pdays'].min(), \"to\", df['pdays'].max())\n",
    "print(\"\\nPrevious range: \", df['previous'].min(), \"to\", df['previous'].max())"
   ]
  },
  {
   "cell_type": "markdown",
   "metadata": {
    "id": "boRwuiRqkM8G"
   },
   "source": [
    "<a id=\"section6\"></a>\n",
    "## 6. Data Visualization"
   ]
  },
  {
   "cell_type": "code",
   "execution_count": null,
   "metadata": {
    "colab": {
     "base_uri": "https://localhost:8080/",
     "height": 462
    },
    "id": "K8p0osvMH3zz",
    "outputId": "a57e2cc0-4714-432c-b768-f55f6e0b567f"
   },
   "outputs": [],
   "source": [
    "# showing the top 10 most frequent values in the age\n",
    "df['age'].value_counts().head(10).plot.bar();"
   ]
  },
  {
   "cell_type": "code",
   "execution_count": null,
   "metadata": {
    "colab": {
     "base_uri": "https://localhost:8080/",
     "height": 462
    },
    "id": "FlQDugP6H32h",
    "outputId": "79eb5d6f-5228-4cb2-a92f-6f6b5cb6c7b2"
   },
   "outputs": [],
   "source": [
    "# showing the top 10 least frequent values in the age\n",
    "df['age'].value_counts().tail(10).plot.bar();"
   ]
  },
  {
   "cell_type": "code",
   "execution_count": null,
   "metadata": {
    "colab": {
     "base_uri": "https://localhost:8080/"
    },
    "id": "8GSWt69vNnHN",
    "outputId": "2338a07d-208b-48f4-ec6c-0e77a1989ee5"
   },
   "outputs": [],
   "source": [
    "# counting the number of values of the target variable\n",
    "df.y.value_counts()"
   ]
  },
  {
   "cell_type": "code",
   "execution_count": null,
   "metadata": {
    "colab": {
     "base_uri": "https://localhost:8080/"
    },
    "id": "yZHaGsTINnUd",
    "outputId": "c0ab5c1b-f125-48bb-8a73-89654d1c447e"
   },
   "outputs": [],
   "source": [
    "# counting the number of values of loan\n",
    "df.loan.value_counts()"
   ]
  },
  {
   "cell_type": "code",
   "execution_count": null,
   "metadata": {
    "colab": {
     "base_uri": "https://localhost:8080/"
    },
    "id": "pfJY5mAbNniK",
    "outputId": "9feb4710-620b-4481-ee8d-607c7f058710"
   },
   "outputs": [],
   "source": [
    "# counting the number of values of houses\n",
    "df.housing.value_counts()"
   ]
  },
  {
   "cell_type": "code",
   "execution_count": null,
   "metadata": {
    "colab": {
     "base_uri": "https://localhost:8080/"
    },
    "id": "PZxqzD53H35n",
    "outputId": "9fc42427-6062-4c1d-f745-7372798396ba"
   },
   "outputs": [],
   "source": [
    "# counting the number of values of defaults\n",
    "df.default.value_counts()"
   ]
  },
  {
   "cell_type": "markdown",
   "metadata": {
    "id": "gwZZr48vSZTS"
   },
   "source": [
    "General Visualization"
   ]
  },
  {
   "cell_type": "code",
   "execution_count": null,
   "metadata": {
    "colab": {
     "base_uri": "https://localhost:8080/",
     "height": 998
    },
    "id": "NAJVFN1dRv8U",
    "outputId": "611e5b5c-3c14-49cf-b089-316e00a5706c"
   },
   "outputs": [],
   "source": [
    "# visuals of all the variables in the data\n",
    "sns.pairplot(df, hue='y')"
   ]
  },
  {
   "cell_type": "markdown",
   "metadata": {
    "id": "g0LYf_0g_0C5"
   },
   "source": [
    "Categorical analysis and visualization"
   ]
  },
  {
   "cell_type": "code",
   "execution_count": null,
   "metadata": {
    "colab": {
     "base_uri": "https://localhost:8080/",
     "height": 206
    },
    "id": "eojAAXoB__VO",
    "outputId": "93834f23-9b01-452e-c462-dbb436697f59"
   },
   "outputs": [],
   "source": [
    "# first five rows in the numeric features\n",
    "num_features.head()"
   ]
  },
  {
   "cell_type": "code",
   "execution_count": null,
   "metadata": {
    "colab": {
     "base_uri": "https://localhost:8080/",
     "height": 452
    },
    "id": "LUWkQz72-fe2",
    "outputId": "761380e0-50f1-4e7c-c3ba-d8c5eb74729c"
   },
   "outputs": [],
   "source": [
    "# checking for subcribers and non-subcribers by average age\n",
    "df.groupby('y').agg({'age': 'mean'}).plot.bar();"
   ]
  },
  {
   "cell_type": "code",
   "execution_count": null,
   "metadata": {
    "colab": {
     "base_uri": "https://localhost:8080/",
     "height": 621
    },
    "id": "hRetZZgRkPNP",
    "outputId": "47fec30f-b58e-4811-b160-e82585d022eb"
   },
   "outputs": [],
   "source": [
    "# Visuliazing the y column\n",
    "\n",
    "no_subscription = len(df[df.y == 0])\n",
    "subscription = len(df[df.y == 1])\n",
    "\n",
    "print(\"Number of Customer with no subscription: {}\".format(no_subscription))\n",
    "print(\"\\nNumber of Customer with subscription: {}\".format(subscription))\n",
    "\n",
    "print(\"\\n\\nPercentage of Customer with no subscription: {:.2f}%\".format((no_subscription / (len(df.y))*100)))\n",
    "print(\"\\nPercentage of Customer with subscription: {:.2f}%\".format((subscription / (len(df.y))*100)))\n",
    "\n",
    "sns.countplot(x=\"y\", data=df, palette=\"magma\")"
   ]
  },
  {
   "cell_type": "code",
   "execution_count": null,
   "metadata": {
    "colab": {
     "base_uri": "https://localhost:8080/",
     "height": 472
    },
    "id": "fo4uSS92kP0D",
    "outputId": "a36bbb5f-5a2f-4559-90e7-fa7da69174c4"
   },
   "outputs": [],
   "source": [
    "pd.crosstab(df.loan,df.y).plot(kind=\"bar\",figsize=(15,6),color=['orange','navy'])\n",
    "plt.title('Loan vs Subscription')\n",
    "plt.xlabel('Loan')\n",
    "plt.ylabel('Subscription')"
   ]
  },
  {
   "cell_type": "code",
   "execution_count": null,
   "metadata": {
    "colab": {
     "base_uri": "https://localhost:8080/",
     "height": 472
    },
    "id": "r1qXkkxlkP2t",
    "outputId": "26c69004-3434-41d6-835c-4ffe66d65321"
   },
   "outputs": [],
   "source": [
    "pd.crosstab(df.housing,df.y).plot(kind=\"bar\",figsize=(15,6),color=['orange','navy'])\n",
    "plt.title('Housing vs Subscription')\n",
    "plt.xlabel('Housing')\n",
    "plt.ylabel('Subscription')"
   ]
  },
  {
   "cell_type": "code",
   "execution_count": null,
   "metadata": {
    "colab": {
     "base_uri": "https://localhost:8080/",
     "height": 472
    },
    "id": "xkModydgUMJX",
    "outputId": "4362eb11-63f8-4640-ade5-ae9de6b37323"
   },
   "outputs": [],
   "source": [
    "pd.crosstab(df.default,df.y).plot(kind=\"bar\",figsize=(15,6),color=['orange','navy'])\n",
    "plt.title('Default vs Subscription')\n",
    "plt.xlabel('Default')\n",
    "plt.ylabel('Subscription')"
   ]
  },
  {
   "cell_type": "code",
   "execution_count": null,
   "metadata": {
    "id": "owigMWONkP7I"
   },
   "outputs": [],
   "source": [
    "# Define the bar_plot function\n",
    "def bar_plot(a, b, col, hatches, target_variable):\n",
    "    fig = plt.figure(figsize=(12, 10))\n",
    "\n",
    "    # Ensure the number of plots matches the number of columns provided\n",
    "    num_plots = min(a * b, len(col))\n",
    "\n",
    "    for i in range(num_plots):\n",
    "        fig.add_subplot(b, a, i+1)\n",
    "        sns.countplot(data=df, x=col[i], hue=target_variable, hatch=hatches[i])\n",
    "        plt.xlabel(col[i], fontsize=20)\n",
    "\n",
    "    plt.tight_layout()"
   ]
  },
  {
   "cell_type": "code",
   "execution_count": null,
   "metadata": {
    "colab": {
     "base_uri": "https://localhost:8080/",
     "height": 372
    },
    "id": "mfuzVp2BD15U",
    "outputId": "1541aea5-b80f-49b2-d779-cfdd49437fad"
   },
   "outputs": [],
   "source": [
    "# Modify the 'job' column to show only the first three characters\n",
    "df['job'] = df['job'].str.slice(0, 4)\n",
    "# Specify the columns to plot and their respective hatches\n",
    "columns = ['marital', 'education', 'poutcome', 'job']\n",
    "hatches = ['/', '\\\\', '|', '-']\n",
    "\n",
    "# Plot the columns with the target variable\n",
    "bar_plot(2, 5, columns, hatches, 'y')"
   ]
  },
  {
   "cell_type": "code",
   "execution_count": null,
   "metadata": {
    "colab": {
     "base_uri": "https://localhost:8080/",
     "height": 371
    },
    "id": "8daYkV_SD17B",
    "outputId": "ff36dd09-d478-4534-e06d-7d301028d94c"
   },
   "outputs": [],
   "source": [
    "# Specify the columns to plot and their respective hatches\n",
    "columns = ['loan', 'default', 'housing', 'campaign']\n",
    "hatches = ['/', '*', '\\\\', 'o']\n",
    "\n",
    "# Plot the columns with the target variable\n",
    "bar_plot(2, 5, columns, hatches, 'y')"
   ]
  },
  {
   "cell_type": "code",
   "execution_count": null,
   "metadata": {
    "id": "0mAeS7syJapU"
   },
   "outputs": [],
   "source": [
    "# Define the scatter_plot function\n",
    "def scatter_plot(a, b, x_cols, y_col, target_variable):\n",
    "    fig = plt.figure(figsize=(12, 10))\n",
    "\n",
    "    # Ensure the number of plots matches the number of columns provided\n",
    "    num_plots = min(a * b, len(x_cols))\n",
    "\n",
    "    for i in range(num_plots):\n",
    "        fig.add_subplot(b, a, i + 1)\n",
    "        sns.scatterplot(data=df, x=x_cols[i], y=y_col, hue=target_variable)\n",
    "        plt.xlabel(x_cols[i], fontsize=20)\n",
    "        plt.ylabel(y_col, fontsize=20)\n",
    "\n",
    "    plt.tight_layout()"
   ]
  },
  {
   "cell_type": "code",
   "execution_count": null,
   "metadata": {
    "colab": {
     "base_uri": "https://localhost:8080/",
     "height": 846
    },
    "id": "w4bbiKBEKAn6",
    "outputId": "b085301f-ec7f-4d88-8ce2-f2234d0b2749"
   },
   "outputs": [],
   "source": [
    "# Specify the x and y columns to plot\n",
    "x_columns = [\"age\", \"balance\", \"day\", \"campaign\", \"pdays\", \"previous\"]\n",
    "y_column = \"duration\"\n",
    "\n",
    "# Plot the columns with the target variable\n",
    "scatter_plot(2, 3, x_columns, y_column, 'y')"
   ]
  },
  {
   "cell_type": "markdown",
   "metadata": {},
   "source": [
    "<a id=\"section7\"></a>\n",
    "## 7. Feature Engineering"
   ]
  },
  {
   "cell_type": "code",
   "execution_count": null,
   "metadata": {},
   "outputs": [],
   "source": [
    "# Create interaction terms\n",
    "df['balance_duration'] = df['balance'] * df['duration']\n",
    "df['age_duration'] = df['age'] * df['duration']"
   ]
  },
  {
   "cell_type": "code",
   "execution_count": null,
   "metadata": {},
   "outputs": [],
   "source": [
    "# Define the bins for age groups\n",
    "bins = [0, 25, 35, 45, 55, 65, 100]  \n",
    "labels = ['Under 25', '25-34', '35-44', '45-54', '55-64', '65 and Over']\n",
    "\n",
    "# Convert the 'age' variable into categorical age groups\n",
    "df['age_group'] = pd.cut(df['age'], bins=bins, labels=labels, right=False)"
   ]
  },
  {
   "cell_type": "code",
   "execution_count": null,
   "metadata": {},
   "outputs": [],
   "source": [
    "# Scatter plot for balance_duration vs. age_duration, colored by subscription status\n",
    "plt.figure(figsize=(10, 6))\n",
    "sns.scatterplot(x='balance_duration', y='age_duration', hue='y', data=df)\n",
    "plt.title('Distribution of subcribers by Balance Duration vs. Age Duration')\n",
    "plt.xlabel('Balance Duration')\n",
    "plt.ylabel('Age Duration')\n",
    "plt.legend(title='Subscription')\n",
    "plt.show()"
   ]
  },
  {
   "cell_type": "markdown",
   "metadata": {},
   "source": [
    "<a id=\"section8\"></a>\n",
    "## 8. Outliers"
   ]
  },
  {
   "cell_type": "code",
   "execution_count": null,
   "metadata": {},
   "outputs": [],
   "source": [
    "# checking the first five rows of the numeric columns\n",
    "num_features.head()"
   ]
  },
  {
   "cell_type": "code",
   "execution_count": null,
   "metadata": {},
   "outputs": [],
   "source": [
    "# Add the new interaction terms to the num_features list\n",
    "num_features = pd.concat([num_features, df['balance_duration'], df['age_duration']], axis=1)"
   ]
  },
  {
   "cell_type": "code",
   "execution_count": null,
   "metadata": {},
   "outputs": [],
   "source": [
    "# check the first five rows \n",
    "num_features.head()"
   ]
  },
  {
   "cell_type": "code",
   "execution_count": null,
   "metadata": {},
   "outputs": [],
   "source": [
    "# checking for outliers\n",
    "plt.figure(figsize= (18, 20)) # set figure size\n",
    "for i in range(len(num_features.columns)):\n",
    "    plt.subplot(4, 3, i+1) # creates a subplot\n",
    "    sns.boxplot(x = num_features.iloc[:, i])\n",
    "    plt.xlabel(num_features.columns[i], size=15)"
   ]
  },
  {
   "cell_type": "code",
   "execution_count": null,
   "metadata": {},
   "outputs": [],
   "source": [
    "# writing def functions  to solve outliers\n",
    "def handle_outliers(df, column, method='clip'):\n",
    "    Q1 = df[column].quantile(0.25)\n",
    "    Q3 = df[column].quantile(0.75)\n",
    "    IQR = Q3 - Q1\n",
    "    lower_bound = Q1 - 1.5 * IQR\n",
    "    upper_bound = Q3 + 1.5 * IQR\n",
    "    \n",
    "    if method == 'clip':\n",
    "        return df[column].clip(lower_bound, upper_bound)\n",
    "    elif method == 'remove':\n",
    "        return df[(df[column] >= lower_bound) & (df[column] <= upper_bound)]\n",
    "    elif method == 'log':\n",
    "        return np.log1p(df[column])\n",
    "    else:\n",
    "        raise ValueError(\"Method must be 'clip', 'remove', or 'log'\")"
   ]
  },
  {
   "cell_type": "code",
   "execution_count": null,
   "metadata": {},
   "outputs": [],
   "source": [
    "# Handle outliers for each column\n",
    "\n",
    "outlier_col = ['age','balance','duration','campaign','pdays','previous','balance_duration','age_duration']\n",
    "clean_num_features = num_features.copy()\n",
    "\n",
    "for column in outlier_col:\n",
    "    clean_num_features[column] = handle_outliers(clean_num_features, column, method='clip')"
   ]
  },
  {
   "cell_type": "code",
   "execution_count": null,
   "metadata": {},
   "outputs": [],
   "source": [
    "# Visualization function\n",
    "def plot_before_after(num_features, clean_num_features, column):\n",
    "    fig, (ax1, ax2) = plt.subplots(1, 2, figsize=(15, 5))\n",
    "    sns.boxplot(x=num_features[column], ax=ax1)\n",
    "    ax1.set_title(f'Before: {column}')\n",
    "    sns.boxplot(x=clean_num_features[column], ax=ax2)\n",
    "    ax2.set_title(f'After: {column}')\n",
    "    plt.tight_layout()\n",
    "    plt.show()"
   ]
  },
  {
   "cell_type": "code",
   "execution_count": null,
   "metadata": {},
   "outputs": [],
   "source": [
    "# Plot before and after for each handled columns\n",
    "for column in outlier_col:\n",
    "    plot_before_after(num_features, clean_num_features, column)"
   ]
  },
  {
   "cell_type": "markdown",
   "metadata": {
    "id": "OeJH9DdHP0ZP"
   },
   "source": [
    "<a id=\"section9\"></a>\n",
    "## 9. Insights"
   ]
  },
  {
   "cell_type": "markdown",
   "metadata": {
    "id": "q_IXdV83QFka"
   },
   "source": [
    "**Age Distribution:** \n",
    "The age group 30-40 years appears to be the most represented, with another significant group between 50-60 years. This suggests that middle-aged individuals form the bulk of the bank’s client base.   \n",
    "\n",
    "**Balance and Duration:**  \n",
    "Balance: Most clients have an average yearly balance close to €0, with a few outliers having balances exceeding €50,000. These high-balance outliers could represent a small but significant portion of wealthier clients who might behave differently in terms of product subscriptions.  \n",
    "Duration: Contact durations are typically short (under 500 seconds), with a small number of longer interactions. Longer durations might indicate successful or more in-depth conversations, potentially leading to higher subscription rates.  \n",
    "\n",
    "**Distinct Clustering for Target Classes:**  \n",
    "Duration and Balance: Clients who subscribed (y = 1) tend to have longer contact durations and higher balances, suggesting that these factors could be strong predictors of subscription. For example, clients with balances above €10,000 and contact durations exceeding 300 seconds are more likely to subscribe.   \n",
    "Age and Duration: The combination of middle to older age (especially 40-60 years) and longer contact duration seems to be associated with higher subscription rates. This could indicate that targeting middle-aged clients with more detailed interactions may increase subscription likelihood.   \n",
    "\n",
    "**Loan Status:**  \n",
    "Customers without a personal loan (loan = 0) have a higher count of subscriptions (y = 1) compared to those with a personal loan (loan = 1). Specifically, among those who did not subscribe (y = 0), the majority do not have a personal loan, while the number significantly drops for those who do.    \n",
    "\n",
    "**Housing Loan Status:**  \n",
    "Similar to personal loans, customers without a housing loan (housing = 0) have a relatively higher count of subscriptions (y = 1) compared to those with a housing loan (housing = 1). The majority of customers, whether they subscribed or not, have a housing loan, but the subscription rate seems to be lower for those with a housing loan.    \n",
    "\n",
    "**Default Credit:**  \n",
    "Customers with no default credits (default = 0) form the overwhelming majority of both the subscribed and non-subscribed groups. Very few customers have a default credits (default = 1), and within this small group, even fewer have subscribed.    \n",
    "\n",
    "**Number of Contacts in Current Campaign (campaign):**  \n",
    "The majority of customers were contacted 1 to 2 times during the campaign.Most customers who subscribed (y = 1) were contacted fewer times, suggesting that repeated contacts may not be as effective in converting customers.  \n",
    "\n",
    "**Marital Status:**    \n",
    "Married Customers: The majority of customers are married. Among them, a higher proportion did not subscribe to the term deposit (y = 0). However, married individuals also form a significant portion of those who did subscribe.  \n",
    "Single Customers: Single customers have a relatively higher proportion of subscriptions (y = 1) compared to married and divorced individuals, suggesting they might be more inclined to subscribe.  \n",
    "Divorced Customers: There are fewer divorced customers overall, and they have the lowest subscription rates among the marital status groups.  \n",
    "\n",
    "**Education Level:**  \n",
    "Secondary Education: The majority of customers have a secondary education level, and most of these customers did not subscribe. However, a significant portion of subscriptions also comes from this group, indicating they are a key demographic.  \n",
    "Tertiary Education: Customers with tertiary education are fewer, but their subscription rate is slightly higher compared to those with secondary education.  \n",
    "Primary Education: Customers with primary education are the fewest and have the lowest subscription rates.  \n",
    "\n",
    "**Previous Campaign Outcome:**  \n",
    "Failure: The majority of customers had a previous campaign outcome marked as \"failure.\" A large portion of these customers did not subscribe in the current campaign, indicating that past negative experiences may influence current decisions.  \n",
    "Success: Customers with a \"success\" outcome in previous campaigns are much fewer but have a higher rate of subscriptions. This suggests that successful past interactions are strong predictors of current campaign success.  \n",
    "Other: The \"other\" category shows a lower subscription rate and a smaller customer count, indicating less influence on current subscription decisions.  \n",
    "\n",
    "**Job Type:**  \n",
    "Admin, Technician, Blue-collar: These job types have the highest number of customers, with \"admin\" and \"blue-collar\" showing a higher count of non-subscriptions (y = 0), while \"technicians\" have a relatively balanced subscription rate.  \n",
    "Management, Entrepreneur, Self-employed: These job types have a moderate number of customers, and they show a slightly higher subscription rate compared to admin and blue-collar jobs.  \n",
    "Students, Retired, Unemployed: These groups have fewer customers overall, but they have relatively higher subscription rates, especially retirees. This suggests that certain life stages might influence a customer's likelihood to subscribe.   \n",
    "\n",
    "**Interactive terms:**  \n",
    "There doesn't appear to be a strong, clear-cut separation between subscribers and non-subscribers based on the interaction terms. Both groups have overlapping values across most of the range. Some of the higher \"Balance Duration\" values, however, appear to correspond more to customers who subscribed, suggesting that a longer balance duration might be slightly more common among subscribers.  \n",
    "\n",
    "**Outlier Treatment:**   \n",
    "The IQR method effectively identifies and reduces the influence of extreme values (outliers) by clipping them to a predefined threshold. This results in a cleaner and more robust representation of the data, which is crucial for reducing the impact of outliers on further analysis or modeling.  \n",
    "\n",
    "**Data Distribution:**   \n",
    "After clipping, the age distribution becomes more compact, with no outliers extending beyond the whiskers. This may lead to more accurate modeling and analysis, as the data is now less skewed by extreme values."
   ]
  },
  {
   "cell_type": "markdown",
   "metadata": {
    "id": "Ycd11cH8WaFG"
   },
   "source": [
    "<a id=\"section10\"></a>\n",
    "## 10. Recommendation"
   ]
  },
  {
   "cell_type": "markdown",
   "metadata": {},
   "source": [
    "**Age Distribution:** Design marketing strategies targeting middle-aged clients (30-60 years) who are most prevalent in your customer base.\n",
    "\n",
    "**Balance and Duration:** Develop specialized offers for clients with higher balances and longer contact durations, as these factors are associated with higher subscription rates.\n",
    "\n",
    "**Target Classes:** Use balance and contact duration as key metrics in marketing campaigns to identify and target high-potential subscribers.\n",
    "\n",
    "**Loan Status:** Consider focusing marketing efforts on clients without personal or housing loans, as they show higher subscription rates.\n",
    "\n",
    "**Housing Loan Status:** Evaluate the impact of housing loans on subscription rates and tailor offers to clients without housing loans.\n",
    "\n",
    "**Default Credit:** Prioritize clients without default credits for subscription offers. Review strategies for those with default credits to mitigate their lower subscription potential.\n",
    "\n",
    "**Number of Contacts in Current Campaign:** Optimize contact strategies by limiting outreach to 1-2 times to avoid diminishing returns.\n",
    "\n",
    "**Marital Status:** Tailor marketing approaches for single clients, who have a higher subscription rate, and adapt strategies for married and divorced clients.\n",
    "\n",
    "**Education Level:** Focus on clients with secondary and tertiary education levels, as they are significant demographics for subscriptions. Develop specific strategies for those with primary education.\n",
    "\n",
    "**Previous Campaign Outcome:** Leverage success stories from past campaigns to enhance current offers and address issues related to previous campaign failures.\n",
    "\n",
    "**Job Type:** Target retirees and students with tailored offers, and adjust strategies for admin and blue-collar workers who show varied subscription rates."
   ]
  },
  {
   "cell_type": "markdown",
   "metadata": {},
   "source": [
    "<a id=\"section11\"></a>\n",
    "## 11. Conclusion"
   ]
  },
  {
   "cell_type": "markdown",
   "metadata": {},
   "source": [
    "<p>The analysis highlights key factors influencing subscription rates, including client age, balance, contact duration, and loan status. Targeting middle-aged clients with higher balances and longer contact durations can enhance subscription rates. Focusing on clients without personal and housing loans, optimizing contact strategies, and leveraging past campaign successes are crucial. Tailoring marketing approaches based on education level, marital status, and job type will further improve targeting effectiveness. By implementing these insights and refining data handling practices, the bank can increase the efficiency of its marketing campaigns and boost overall subscription rates.</p>"
   ]
  }
 ],
 "metadata": {
  "colab": {
   "provenance": []
  },
  "kernelspec": {
   "display_name": "Python 3 (ipykernel)",
   "language": "python",
   "name": "python3"
  },
  "language_info": {
   "codemirror_mode": {
    "name": "ipython",
    "version": 3
   },
   "file_extension": ".py",
   "mimetype": "text/x-python",
   "name": "python",
   "nbconvert_exporter": "python",
   "pygments_lexer": "ipython3",
   "version": "3.12.2"
  }
 },
 "nbformat": 4,
 "nbformat_minor": 1
}
